{
  "nbformat": 4,
  "nbformat_minor": 0,
  "metadata": {
    "colab": {
      "provenance": [],
      "authorship_tag": "ABX9TyOT73CSxbiHuDL745P4R0b6",
      "include_colab_link": true
    },
    "kernelspec": {
      "name": "python3",
      "display_name": "Python 3"
    },
    "language_info": {
      "name": "python"
    }
  },
  "cells": [
    {
      "cell_type": "markdown",
      "metadata": {
        "id": "view-in-github",
        "colab_type": "text"
      },
      "source": [
        "<a href=\"https://colab.research.google.com/github/selmaazizi/PRODIGY_CS_02/blob/main/Pixel_Manipulation_for_Image_Encryption.ipynb\" target=\"_parent\"><img src=\"https://colab.research.google.com/assets/colab-badge.svg\" alt=\"Open In Colab\"/></a>"
      ]
    },
    {
      "cell_type": "code",
      "execution_count": null,
      "metadata": {
        "colab": {
          "base_uri": "https://localhost:8080/"
        },
        "id": "Hq_W3p3XsSMb",
        "outputId": "07a8f446-599b-4861-fe9a-9ea729d5802d"
      },
      "outputs": [
        {
          "name": "stdout",
          "output_type": "stream",
          "text": [
            "Enter mode (encrypt/decrypt): encrypt \n"
          ]
        }
      ],
      "source": [
        "from PIL import Image\n",
        "import numpy as np\n",
        "\n",
        "def encrypt_image(input_path, output_path, key=50):\n",
        "    image = Image.open(input_path)\n",
        "    img_array = np.array(image)\n",
        "    encrypted_array = (img_array + key) % 256  # Simple encryption using modulo operation\n",
        "    encrypted_image = Image.fromarray(encrypted_array.astype('uint8'))\n",
        "\n",
        "    if not output_path.lower().endswith(('.png', '.jpg', '.jpeg', '.bmp', '.gif')):\n",
        "        output_path += '.png'  # Default extension\n",
        "\n",
        "    encrypted_image.save(output_path)\n",
        "    print(\"Image encrypted successfully!\")\n",
        "\n",
        "def decrypt_image(input_path, output_path, key=50):\n",
        "    image = Image.open(input_path)\n",
        "    img_array = np.array(image)\n",
        "    decrypted_array = (img_array - key) % 256  # Reversing the encryption\n",
        "    decrypted_image = Image.fromarray(decrypted_array.astype('uint8'))\n",
        "\n",
        "    if not output_path.lower().endswith(('.png', '.jpg', '.jpeg', '.bmp', '.gif')):\n",
        "        output_path += '.png'  # Default extension\n",
        "\n",
        "    decrypted_image.save(output_path)\n",
        "    print(\"Image decrypted successfully!\")\n",
        "\n",
        "if __name__ == \"__main__\":\n",
        "    mode = input(\"Enter mode (encrypt/decrypt): \").strip().lower()\n",
        "    input_path = input(\"Enter input image path: \")\n",
        "    output_path = input(\"Enter output image path: \")\n",
        "    key = int(input(\"Enter encryption key (number): \"))\n",
        "\n",
        "    if mode == 'encrypt':\n",
        "        encrypt_image(input_path, output_path, key)\n",
        "    elif mode == 'decrypt':\n",
        "        decrypt_image(input_path, output_path, key)\n",
        "    else:\n",
        "        print(\"Invalid mode selected.\")\n"
      ]
    },
    {
      "cell_type": "code",
      "source": [],
      "metadata": {
        "id": "I56rzgEnyXUY"
      },
      "execution_count": null,
      "outputs": []
    }
  ]
}